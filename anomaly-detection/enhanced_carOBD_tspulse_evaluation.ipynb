{
  "cells": [
    {
      "cell_type": "markdown",
      "metadata": {},
      "source": [
        "# Enhanced TSPulse Anomaly Detection Evaluation\n",
        "\n",
        "This notebook evaluates TSPulse anomaly detection performance on fault-injected datasets with precise tracking of injection percentages and datapoints.\n",
        "\n",
        "## Features:\n",
        "- Configurable anomaly injection percentages\n",
        "- Precise tracking of injected anomalies\n",
        "- Detailed performance metrics\n",
        "- Comparison with ground truth injection data\n"
      ]
    },
    {
      "cell_type": "code",
      "execution_count": null,
      "metadata": {},
      "outputs": [],
      "source": [
        "# Install required dependencies\n",
        "! pip install \"granite-tsfm[notebooks] @ git+https://github.com/ibm-granite/granite-tsfm.git@v0.3.1\"\n"
      ]
    },
    {
      "cell_type": "code",
      "execution_count": null,
      "metadata": {},
      "outputs": [],
      "source": [
        "import matplotlib.pyplot as plt\n",
        "import numpy as np\n",
        "import pandas as pd\n",
        "import os\n",
        "import json\n",
        "from sklearn.metrics import fbeta_score, precision_score, recall_score, confusion_matrix, f1_score\n",
        "from typing import Dict, List, Tuple, Any, Optional\n",
        "\n",
        "from tsfm_public.models.tspulse import TSPulseForReconstruction\n",
        "from tsfm_public.toolkit.ad_helpers import AnomalyScoreMethods\n",
        "from tsfm_public.toolkit.time_series_anomaly_detection_pipeline import TimeSeriesAnomalyDetectionPipeline\n"
      ]
    }
  ],
  "metadata": {
    "language_info": {
      "name": "python"
    }
  },
  "nbformat": 4,
  "nbformat_minor": 2
}
